{
 "cells": [
  {
   "cell_type": "code",
   "execution_count": 1,
   "id": "be87c319",
   "metadata": {},
   "outputs": [
    {
     "name": "stdout",
     "output_type": "stream",
     "text": [
      "{'title': 'Python Programming', 'author': 'John Doe', 'pages': 350}\n"
     ]
    }
   ],
   "source": [
    "#Create a dictionary named book that contains the following key-value pairs: title (\"Python Programming\"), author (\"John Doe\"), and pages (350). Print the dictionary\n",
    "book = {\"title\": \"Python Programming\", \"author\": \"John Doe\", \"pages\": 350}\n",
    "print(book)\n"
   ]
  },
  {
   "cell_type": "code",
   "execution_count": 2,
   "id": "1f25dde8",
   "metadata": {
    "scrolled": true
   },
   "outputs": [
    {
     "name": "stdout",
     "output_type": "stream",
     "text": [
      "Engineer\n"
     ]
    }
   ],
   "source": [
    "# Given the dictionary person = {\"name\": \"Emily\", \"age\": 30, \"profession\": \"Engineer\"}, write code to print only the profession.\n",
    "person = {\"name\": \"Emily\", \"age\": 30, \"profession\": \"Engineer\"}\n",
    "print(person[\"profession\"])\n"
   ]
  },
  {
   "cell_type": "code",
   "execution_count": 4,
   "id": "2c756070",
   "metadata": {},
   "outputs": [
    {
     "name": "stdout",
     "output_type": "stream",
     "text": [
      "{'name': 'Emily', 'profession': 'Engineer', 'salary': 50000}\n"
     ]
    }
   ],
   "source": [
    "#Add a new key salary with the value 50000 to the person dictionary. Then, remove the key age from the dictionary. Print the updated dictionary.\n",
    "person[\"salary\"] = 50000\n",
    "person.pop(\"age\")\n",
    "print(person)\n"
   ]
  },
  {
   "cell_type": "code",
   "execution_count": 5,
   "id": "09d503e6",
   "metadata": {},
   "outputs": [
    {
     "name": "stdout",
     "output_type": "stream",
     "text": [
      "dict_keys(['apples', 'oranges', 'bananas'])\n",
      "dict_values([10, 5, 7])\n",
      "dict_items([('apples', 10), ('oranges', 5), ('bananas', 7)])\n"
     ]
    }
   ],
   "source": [
    "#Given the dictionary inventory = {\"apples\": 10, \"oranges\": 5, \"bananas\": 7}, use dictionary methods to:\n",
    "#Print all the keys.\n",
    "#Print all the values.\n",
    "#Print all the key-value pairs.\n",
    "inventory = {\"apples\": 10, \"oranges\": 5, \"bananas\": 7}\n",
    "print(inventory.keys())  # Print all keys\n",
    "print(inventory.values())  # Print all values\n",
    "print(inventory.items())  # Print all key-value pairs\n"
   ]
  },
  {
   "cell_type": "code",
   "execution_count": 6,
   "id": "11c20610",
   "metadata": {},
   "outputs": [
    {
     "name": "stdout",
     "output_type": "stream",
     "text": [
      "Alice has a grade of 85.\n",
      "Bob has a grade of 90.\n",
      "Charlie has a grade of 78.\n"
     ]
    }
   ],
   "source": [
    "#You have a dictionary grades = {\"Alice\": 85, \"Bob\": 90, \"Charlie\": 78}. Write a loop to print each student's name and grade in the format \"Alice has a grade of 85.\"\n",
    "grades = {\"Alice\": 85, \"Bob\": 90, \"Charlie\": 78}\n",
    "for student, grade in grades.items():\n",
    "    print(f\"{student} has a grade of {grade}.\")\n"
   ]
  },
  {
   "cell_type": "code",
   "execution_count": 7,
   "id": "60548b15",
   "metadata": {},
   "outputs": [
    {
     "name": "stdout",
     "output_type": "stream",
     "text": [
      "True False\n"
     ]
    }
   ],
   "source": [
    "#Create two boolean variables is_student and is_employed. Set them to True and False respectively. Print both variables.\n",
    "is_student = True\n",
    "is_employed = False\n",
    "print(is_student, is_employed)\n"
   ]
  },
  {
   "cell_type": "code",
   "execution_count": 8,
   "id": "28d77009",
   "metadata": {},
   "outputs": [
    {
     "name": "stdout",
     "output_type": "stream",
     "text": [
      "False\n",
      "True\n",
      "False\n",
      "True\n"
     ]
    }
   ],
   "source": [
    "#Given a = True and b = False, write expressions to evaluate:\n",
    "#a and b\n",
    "#a or b\n",
    "#not a\n",
    "#not b\n",
    "a = True\n",
    "b = False\n",
    "print(a and b)  # False\n",
    "print(a or b)  # True\n",
    "print(not a)  # False\n",
    "print(not b)  # True\n"
   ]
  },
  {
   "cell_type": "code",
   "execution_count": 9,
   "id": "2a540668",
   "metadata": {},
   "outputs": [
    {
     "name": "stdout",
     "output_type": "stream",
     "text": [
      "True\n"
     ]
    }
   ],
   "source": [
    "#Write a boolean expression to check if a number x is between 10 and 20 (inclusive). Assign the result to a variable is_in_range and print it for x = 15\n",
    "x = 15\n",
    "is_in_range = 10 <= x <= 20\n",
    "print(is_in_range)\n"
   ]
  },
  {
   "cell_type": "code",
   "execution_count": 10,
   "id": "fb51dcc4",
   "metadata": {},
   "outputs": [
    {
     "name": "stdout",
     "output_type": "stream",
     "text": [
      "True\n"
     ]
    }
   ],
   "source": [
    "# You are building a simple login system. Create boolean variables username_correct and password_correct. Write a boolean expression that evaluates to True only if both the username and password are correct. Print the result.\n",
    "username_correct = True\n",
    "password_correct = True\n",
    "login_successful = username_correct and password_correct\n",
    "print(login_successful)\n"
   ]
  },
  {
   "cell_type": "code",
   "execution_count": 12,
   "id": "79280a7f",
   "metadata": {},
   "outputs": [
    {
     "name": "stdout",
     "output_type": "stream",
     "text": [
      "Enter a number: 45\n",
      "Positive number.\n"
     ]
    }
   ],
   "source": [
    "# Write a program that takes an integer input num. If num is positive, print \"Positive number.\"\n",
    "num = int(input(\"Enter a number: \"))\n",
    "if num > 0:\n",
    "    print(\"Positive number.\")\n"
   ]
  },
  {
   "cell_type": "code",
   "execution_count": 14,
   "id": "7f334c6a",
   "metadata": {},
   "outputs": [
    {
     "name": "stdout",
     "output_type": "stream",
     "text": [
      "Positive number.\n"
     ]
    }
   ],
   "source": [
    "#Extend the previous program to print \"Negative number.\" if num is less than zero. If num is zero, print \"Zero.\"\n",
    "if num > 0:\n",
    "    print(\"Positive number.\")\n",
    "elif num < 0:\n",
    "    print(\"Negative number.\")\n",
    "else:\n",
    "    print(\"Zero.\")\n"
   ]
  },
  {
   "cell_type": "code",
   "execution_count": 15,
   "id": "972064fe",
   "metadata": {},
   "outputs": [
    {
     "name": "stdout",
     "output_type": "stream",
     "text": [
      "Enter your score: 65\n",
      "Grade: F\n"
     ]
    }
   ],
   "source": [
    "#Question: Write a program that takes an integer input score.\n",
    "#If score is 90 or above, print \"Grade: A\"\n",
    "#Elif score is 80 or above, print \"Grade: B\"\n",
    "#Elif score is 70 or above, print \"Grade: C\"\n",
    "#Else, print \"Grade: F\"\n",
    "score = int(input(\"Enter your score: \"))\n",
    "if score >= 90:\n",
    "    print(\"Grade: A\")\n",
    "elif score >= 80:\n",
    "    print(\"Grade: B\")\n",
    "elif score >= 70:\n",
    "    print(\"Grade: C\")\n",
    "else:\n",
    "    print(\"Grade: F\")\n"
   ]
  },
  {
   "cell_type": "code",
   "execution_count": 16,
   "id": "fe8595d9",
   "metadata": {},
   "outputs": [
    {
     "name": "stdout",
     "output_type": "stream",
     "text": [
      "Enter your age: 56\n",
      "Do you have a license? (yes/no): no\n",
      "You need a driver's license to drive.\n"
     ]
    }
   ],
   "source": [
    "# Write a program that takes two inputs: age and has_license.\n",
    "#If age is 18 or above:\n",
    "#If has_license is True, print \"You can drive.\"\n",
    "#Else, print \"You need a driver's license to drive.\"\n",
    "#Else, print \"You are too young to drive.\"\n",
    "age = int(input(\"Enter your age: \"))\n",
    "has_license = input(\"Do you have a license? (yes/no): \").lower() == \"yes\"\n",
    "\n",
    "if age >= 18:\n",
    "    if has_license:\n",
    "        print(\"You can drive.\")\n",
    "    else:\n",
    "        print(\"You need a driver's license to drive.\")\n",
    "else:\n",
    "    print(\"You are too young to drive.\")\n"
   ]
  },
  {
   "cell_type": "code",
   "execution_count": 17,
   "id": "dd5d553f",
   "metadata": {},
   "outputs": [
    {
     "name": "stdout",
     "output_type": "stream",
     "text": [
      "Enter the purchase amount: 43\n",
      "No discount available.\n"
     ]
    }
   ],
   "source": [
    "#You are creating a simple discount system for a store. Write a program that takes an integer input purchase_amount.\n",
    "#If purchase_amount is greater than or equal to 1000, print \"You get a 20% discount!\"\n",
    "#Elif purchase_amount is greater than or equal to 500, print \"You get a 10% discount!\"\n",
    "#Else, print \"No discount available.\"\n",
    "purchase_amount = int(input(\"Enter the purchase amount: \"))\n",
    "if purchase_amount >= 1000:\n",
    "    print(\"You get a 20% discount!\")\n",
    "elif purchase_amount >= 500:\n",
    "    print(\"You get a 10% discount!\")\n",
    "else:\n",
    "    print(\"No discount available.\")\n"
   ]
  },
  {
   "cell_type": "code",
   "execution_count": 18,
   "id": "fc532d49",
   "metadata": {},
   "outputs": [
    {
     "name": "stdout",
     "output_type": "stream",
     "text": [
      "{'book1': {'title': 'Python Basics', 'author': 'Jane Smith', 'year': 2019}, 'book2': {'title': 'Advanced Python', 'author': 'John Doe', 'year': 2021}}\n"
     ]
    }
   ],
   "source": [
    "#Create a dictionary named library that contains two books. Each book should be a nested dictionary with keys title, author, and year. Print the entire library dictionary.\n",
    "library = {\n",
    "    \"book1\": {\"title\": \"Python Basics\", \"author\": \"Jane Smith\", \"year\": 2019},\n",
    "    \"book2\": {\"title\": \"Advanced Python\", \"author\": \"John Doe\", \"year\": 2021}\n",
    "}\n",
    "print(library)\n"
   ]
  },
  {
   "cell_type": "code",
   "execution_count": 19,
   "id": "40747fd7",
   "metadata": {},
   "outputs": [
    {
     "name": "stdout",
     "output_type": "stream",
     "text": [
      "value2\n",
      "Not Found\n"
     ]
    }
   ],
   "source": [
    "#n the dictionary data = {\"key1\": \"value1\", \"key2\": \"value2\", \"key3\": \"value3\"}, use the get() method to retrieve the value for key2. Also, try to retrieve the value for a non-existent key key4 with a default value \"Not Found\".\n",
    "data = {\"key1\": \"value1\", \"key2\": \"value2\", \"key3\": \"value3\"}\n",
    "print(data.get(\"key2\"))  # value2\n",
    "print(data.get(\"key4\", \"Not Found\"))  # Not Found\n"
   ]
  },
  {
   "cell_type": "code",
   "execution_count": 20,
   "id": "afae3c21",
   "metadata": {},
   "outputs": [
    {
     "name": "stdout",
     "output_type": "stream",
     "text": [
      "True\n"
     ]
    }
   ],
   "source": [
    "# Given x = 10, y = 20, and z = 30, write a boolean expression that evaluates to True if x is less than y and y is less than z. Print the result.\n",
    "x = 10\n",
    "y = 20\n",
    "z = 30\n",
    "result = x < y and y < z\n",
    "print(result)  # True\n"
   ]
  },
  {
   "cell_type": "code",
   "execution_count": 22,
   "id": "081f4da0",
   "metadata": {},
   "outputs": [
    {
     "name": "stdout",
     "output_type": "stream",
     "text": [
      "Function return_false called\n",
      "False\n"
     ]
    }
   ],
   "source": [
    "# Explain what will be printed and why in the following code:\n",
    "def return_true():\n",
    "    print(\"Function return_true called\")\n",
    "    return True\n",
    "\n",
    "def return_false():\n",
    "    print(\"Function return_false called\")\n",
    "    return False\n",
    "\n",
    "result = return_false() and return_true()\n",
    "print(result)\n",
    "#The function return_false() is called first, and it prints \"Function return_false called\" and returns `False"
   ]
  },
  {
   "cell_type": "code",
   "execution_count": null,
   "id": "d2a143fe",
   "metadata": {},
   "outputs": [],
   "source": []
  }
 ],
 "metadata": {
  "kernelspec": {
   "display_name": "Python 3 (ipykernel)",
   "language": "python",
   "name": "python3"
  },
  "language_info": {
   "codemirror_mode": {
    "name": "ipython",
    "version": 3
   },
   "file_extension": ".py",
   "mimetype": "text/x-python",
   "name": "python",
   "nbconvert_exporter": "python",
   "pygments_lexer": "ipython3",
   "version": "3.11.4"
  }
 },
 "nbformat": 4,
 "nbformat_minor": 5
}
