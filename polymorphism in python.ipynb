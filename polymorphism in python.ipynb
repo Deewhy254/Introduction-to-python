{
 "cells": [
  {
   "cell_type": "markdown",
   "id": "19cafc9b",
   "metadata": {},
   "source": [
    "# POLYMORPHISM IN PYTHON "
   ]
  },
  {
   "cell_type": "code",
   "execution_count": 83,
   "id": "6299966e",
   "metadata": {},
   "outputs": [
    {
     "name": "stdout",
     "output_type": "stream",
     "text": [
      "Meow!\n",
      "Bark!\n"
     ]
    }
   ],
   "source": [
    "class Animal:\n",
    "     def sound(self):\n",
    "        pass\n",
    "    \n",
    "class Dog(Animal):\n",
    "     def sound(self):\n",
    "        return \"Bark!\"\n",
    "    \n",
    "class Cat(Animal):\n",
    "    def sound(self):\n",
    "        return \"Meow!\"\n",
    "    \n",
    "def make_sound(self):\n",
    "        print(self.sound())\n",
    "        \n",
    "dog = Dog()\n",
    "cat = Cat()\n",
    "\n",
    "make_sound(cat)\n",
    "make_sound(dog)\n"
   ]
  },
  {
   "cell_type": "code",
   "execution_count": 25,
   "id": "c526d0f6",
   "metadata": {
    "scrolled": true
   },
   "outputs": [
    {
     "ename": "NameError",
     "evalue": "name 'x' is not defined",
     "output_type": "error",
     "traceback": [
      "\u001b[1;31m---------------------------------------------------------------------------\u001b[0m",
      "\u001b[1;31mNameError\u001b[0m                                 Traceback (most recent call last)",
      "Cell \u001b[1;32mIn[25], line 1\u001b[0m\n\u001b[1;32m----> 1\u001b[0m \u001b[38;5;28mprint\u001b[39m(x\u001b[38;5;241m*\u001b[39my)\n",
      "\u001b[1;31mNameError\u001b[0m: name 'x' is not defined"
     ]
    }
   ],
   "source": [
    "print(x*y)"
   ]
  },
  {
   "cell_type": "code",
   "execution_count": 76,
   "id": "97da8630",
   "metadata": {},
   "outputs": [
    {
     "name": "stdout",
     "output_type": "stream",
     "text": [
      "4\n",
      "6\n"
     ]
    }
   ],
   "source": [
    "class Calculator:\n",
    "    def caculate(self, args):\n",
    "        if len(args) == 1:\n",
    "            return args[0] * 2\n",
    "        elif len(args) == 2:\n",
    "            return args[0] + args[1]\n",
    "        else:\n",
    "              raise value(\"Invalid number of argument on the calculator\")\n",
    "calculator = Calculator()\n",
    "\n",
    "print(calculator.caculate([2]))\n",
    "print(calculator.caculate([2,4]))\n",
    "        "
   ]
  },
  {
   "cell_type": "code",
   "execution_count": 78,
   "id": "b2c49d10",
   "metadata": {},
   "outputs": [
    {
     "name": "stdout",
     "output_type": "stream",
     "text": [
      "Delhi is the capital\n",
      "Hindi is their language\n",
      "the indian is a developing nation\n",
      "washington D.C, is the capital\n",
      "englsh\n",
      "developed nation\n"
     ]
    }
   ],
   "source": [
    "class Indian():\n",
    "    def capital(self):\n",
    "        print(\"Delhi is the capital\")\n",
    "    def language(self):\n",
    "        print(\"Hindi is their language\")\n",
    "    def type(self):\n",
    "        print(\"the indian is a developing nation\")\n",
    "class USA():\n",
    "    def capital(self):\n",
    "        print(\"washington D.C, is the capital\")\n",
    "    def language(self):\n",
    "        print(\"englsh\")\n",
    "    def type(self):\n",
    "        print(\"developed nation\")\n",
    "ind = Indian()\n",
    "usa = USA ()\n",
    "for country in (ind, usa):\n",
    "    country.capital()\n",
    "    country.language()\n",
    "    country.type()\n",
    "   "
   ]
  }
 ],
 "metadata": {
  "kernelspec": {
   "display_name": "Python 3 (ipykernel)",
   "language": "python",
   "name": "python3"
  },
  "language_info": {
   "codemirror_mode": {
    "name": "ipython",
    "version": 3
   },
   "file_extension": ".py",
   "mimetype": "text/x-python",
   "name": "python",
   "nbconvert_exporter": "python",
   "pygments_lexer": "ipython3",
   "version": "3.11.4"
  }
 },
 "nbformat": 4,
 "nbformat_minor": 5
}
